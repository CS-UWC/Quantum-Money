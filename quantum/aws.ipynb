{
 "cells": [
  {
   "cell_type": "code",
   "execution_count": 2,
   "metadata": {},
   "outputs": [
    {
     "ename": "TypeError",
     "evalue": "AwsDevice.get_devices() got an unexpected keyword argument 'status'",
     "output_type": "error",
     "traceback": [
      "\u001b[1;31m---------------------------------------------------------------------------\u001b[0m",
      "\u001b[1;31mTypeError\u001b[0m                                 Traceback (most recent call last)",
      "\u001b[1;32mc:\\Users\\isati\\University\\2023\\Project\\term 2\\prototype\\quantum\\aws.ipynb Cell 1\u001b[0m line \u001b[0;36m6\n\u001b[0;32m      <a href='vscode-notebook-cell:/c%3A/Users/isati/University/2023/Project/term%202/prototype/quantum/aws.ipynb#W0sZmlsZQ%3D%3D?line=2'>3</a>\u001b[0m \u001b[39mfrom\u001b[39;00m \u001b[39mqiskit_braket_provider\u001b[39;00m \u001b[39mimport\u001b[39;00m AWSBraketProvider, BraketLocalBackend\n\u001b[0;32m      <a href='vscode-notebook-cell:/c%3A/Users/isati/University/2023/Project/term%202/prototype/quantum/aws.ipynb#W0sZmlsZQ%3D%3D?line=4'>5</a>\u001b[0m provider \u001b[39m=\u001b[39m AWSBraketProvider()\n\u001b[1;32m----> <a href='vscode-notebook-cell:/c%3A/Users/isati/University/2023/Project/term%202/prototype/quantum/aws.ipynb#W0sZmlsZQ%3D%3D?line=5'>6</a>\u001b[0m backends \u001b[39m=\u001b[39m provider\u001b[39m.\u001b[39;49mbackends(status\u001b[39m=\u001b[39;49m\u001b[39m'\u001b[39;49m\u001b[39monline\u001b[39;49m\u001b[39m'\u001b[39;49m)\n\u001b[0;32m      <a href='vscode-notebook-cell:/c%3A/Users/isati/University/2023/Project/term%202/prototype/quantum/aws.ipynb#W0sZmlsZQ%3D%3D?line=6'>7</a>\u001b[0m backends\n",
      "File \u001b[1;32mc:\\Users\\isati\\University\\2023\\Project\\term 2\\prototype\\Lib\\site-packages\\qiskit_braket_provider\\providers\\braket_provider.py:35\u001b[0m, in \u001b[0;36mAWSBraketProvider.backends\u001b[1;34m(self, name, **kwargs)\u001b[0m\n\u001b[0;32m     33\u001b[0m     \u001b[39mreturn\u001b[39;00m [BraketLocalBackend(name\u001b[39m=\u001b[39m\u001b[39m\"\u001b[39m\u001b[39mdefault\u001b[39m\u001b[39m\"\u001b[39m)]\n\u001b[0;32m     34\u001b[0m names \u001b[39m=\u001b[39m [name] \u001b[39mif\u001b[39;00m name \u001b[39melse\u001b[39;00m \u001b[39mNone\u001b[39;00m\n\u001b[1;32m---> 35\u001b[0m devices \u001b[39m=\u001b[39m AwsDevice\u001b[39m.\u001b[39;49mget_devices(names\u001b[39m=\u001b[39;49mnames, \u001b[39m*\u001b[39;49m\u001b[39m*\u001b[39;49mkwargs)\n\u001b[0;32m     36\u001b[0m \u001b[39m# filter by supported devices\u001b[39;00m\n\u001b[0;32m     37\u001b[0m \u001b[39m# gate models are only supported\u001b[39;00m\n\u001b[0;32m     38\u001b[0m supported_devices \u001b[39m=\u001b[39m [\n\u001b[0;32m     39\u001b[0m     d\n\u001b[0;32m     40\u001b[0m     \u001b[39mfor\u001b[39;00m d \u001b[39min\u001b[39;00m devices\n\u001b[1;32m   (...)\u001b[0m\n\u001b[0;32m     48\u001b[0m     )\n\u001b[0;32m     49\u001b[0m ]\n",
      "\u001b[1;31mTypeError\u001b[0m: AwsDevice.get_devices() got an unexpected keyword argument 'status'"
     ]
    }
   ],
   "source": [
    "from braket.aws import AwsQuantumJob\n",
    "\n",
    "from qiskit_braket_provider import AWSBraketProvider, BraketLocalBackend\n",
    "\n",
    "provider = AWSBraketProvider()\n",
    "backends = provider.backends()\n",
    "backends\n"
   ]
  }
 ],
 "metadata": {
  "kernelspec": {
   "display_name": "prototype",
   "language": "python",
   "name": "python3"
  },
  "language_info": {
   "codemirror_mode": {
    "name": "ipython",
    "version": 3
   },
   "file_extension": ".py",
   "mimetype": "text/x-python",
   "name": "python",
   "nbconvert_exporter": "python",
   "pygments_lexer": "ipython3",
   "version": "3.11.4"
  },
  "orig_nbformat": 4
 },
 "nbformat": 4,
 "nbformat_minor": 2
}
